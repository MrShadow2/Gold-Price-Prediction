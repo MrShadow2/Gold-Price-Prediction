{
 "cells": [
  {
   "cell_type": "markdown",
   "metadata": {
    "id": "EWwnPXPiytHP"
   },
   "source": [
    "### Importing Necessary Libraries"
   ]
  },
  {
   "cell_type": "code",
   "execution_count": 1,
   "metadata": {
    "id": "qLUVeiCNsZuV"
   },
   "outputs": [],
   "source": [
    "import pandas as pd\n",
    "import matplotlib.pyplot as plt\n",
    "import seaborn as sns\n",
    "from sklearn.model_selection import train_test_split\n",
    "from sklearn.ensemble import RandomForestRegressor\n",
    "from sklearn.metrics import r2_score"
   ]
  },
  {
   "cell_type": "markdown",
   "metadata": {
    "id": "FtlJgmXazzMV"
   },
   "source": [
    "### Loading the Dataset"
   ]
  },
  {
   "cell_type": "code",
   "execution_count": 2,
   "metadata": {
    "id": "nzq9P9TNs4R7"
   },
   "outputs": [],
   "source": [
    "gold_data = pd.read_csv('gold_price_data.csv')"
   ]
  },
  {
   "cell_type": "code",
   "execution_count": 3,
   "metadata": {
    "colab": {
     "base_uri": "https://localhost:8080/",
     "height": 423
    },
    "id": "UpM-EsWxs-Gc",
    "outputId": "d6109af5-2dfe-4da0-fe8d-496e4138b2e8"
   },
   "outputs": [
    {
     "data": {
      "text/html": [
       "<div>\n",
       "<style scoped>\n",
       "    .dataframe tbody tr th:only-of-type {\n",
       "        vertical-align: middle;\n",
       "    }\n",
       "\n",
       "    .dataframe tbody tr th {\n",
       "        vertical-align: top;\n",
       "    }\n",
       "\n",
       "    .dataframe thead th {\n",
       "        text-align: right;\n",
       "    }\n",
       "</style>\n",
       "<table border=\"1\" class=\"dataframe\">\n",
       "  <thead>\n",
       "    <tr style=\"text-align: right;\">\n",
       "      <th></th>\n",
       "      <th>Date</th>\n",
       "      <th>SPX</th>\n",
       "      <th>GLD</th>\n",
       "      <th>USO</th>\n",
       "      <th>SLV</th>\n",
       "      <th>EUR/USD</th>\n",
       "    </tr>\n",
       "  </thead>\n",
       "  <tbody>\n",
       "    <tr>\n",
       "      <th>0</th>\n",
       "      <td>1/2/2008</td>\n",
       "      <td>1447.160034</td>\n",
       "      <td>84.860001</td>\n",
       "      <td>78.470001</td>\n",
       "      <td>15.1800</td>\n",
       "      <td>1.471692</td>\n",
       "    </tr>\n",
       "    <tr>\n",
       "      <th>1</th>\n",
       "      <td>1/3/2008</td>\n",
       "      <td>1447.160034</td>\n",
       "      <td>85.570000</td>\n",
       "      <td>78.370003</td>\n",
       "      <td>15.2850</td>\n",
       "      <td>1.474491</td>\n",
       "    </tr>\n",
       "    <tr>\n",
       "      <th>2</th>\n",
       "      <td>1/4/2008</td>\n",
       "      <td>1411.630005</td>\n",
       "      <td>85.129997</td>\n",
       "      <td>77.309998</td>\n",
       "      <td>15.1670</td>\n",
       "      <td>1.475492</td>\n",
       "    </tr>\n",
       "    <tr>\n",
       "      <th>3</th>\n",
       "      <td>1/7/2008</td>\n",
       "      <td>1416.180054</td>\n",
       "      <td>84.769997</td>\n",
       "      <td>75.500000</td>\n",
       "      <td>15.0530</td>\n",
       "      <td>1.468299</td>\n",
       "    </tr>\n",
       "    <tr>\n",
       "      <th>4</th>\n",
       "      <td>1/8/2008</td>\n",
       "      <td>1390.189941</td>\n",
       "      <td>86.779999</td>\n",
       "      <td>76.059998</td>\n",
       "      <td>15.5900</td>\n",
       "      <td>1.557099</td>\n",
       "    </tr>\n",
       "    <tr>\n",
       "      <th>...</th>\n",
       "      <td>...</td>\n",
       "      <td>...</td>\n",
       "      <td>...</td>\n",
       "      <td>...</td>\n",
       "      <td>...</td>\n",
       "      <td>...</td>\n",
       "    </tr>\n",
       "    <tr>\n",
       "      <th>2285</th>\n",
       "      <td>5/8/2018</td>\n",
       "      <td>2671.919922</td>\n",
       "      <td>124.589996</td>\n",
       "      <td>14.060000</td>\n",
       "      <td>15.5100</td>\n",
       "      <td>1.186789</td>\n",
       "    </tr>\n",
       "    <tr>\n",
       "      <th>2286</th>\n",
       "      <td>5/9/2018</td>\n",
       "      <td>2697.790039</td>\n",
       "      <td>124.330002</td>\n",
       "      <td>14.370000</td>\n",
       "      <td>15.5300</td>\n",
       "      <td>1.184722</td>\n",
       "    </tr>\n",
       "    <tr>\n",
       "      <th>2287</th>\n",
       "      <td>5/10/2018</td>\n",
       "      <td>2723.070068</td>\n",
       "      <td>125.180000</td>\n",
       "      <td>14.410000</td>\n",
       "      <td>15.7400</td>\n",
       "      <td>1.191753</td>\n",
       "    </tr>\n",
       "    <tr>\n",
       "      <th>2288</th>\n",
       "      <td>5/14/2018</td>\n",
       "      <td>2730.129883</td>\n",
       "      <td>124.489998</td>\n",
       "      <td>14.380000</td>\n",
       "      <td>15.5600</td>\n",
       "      <td>1.193118</td>\n",
       "    </tr>\n",
       "    <tr>\n",
       "      <th>2289</th>\n",
       "      <td>5/16/2018</td>\n",
       "      <td>2725.780029</td>\n",
       "      <td>122.543800</td>\n",
       "      <td>14.405800</td>\n",
       "      <td>15.4542</td>\n",
       "      <td>1.182033</td>\n",
       "    </tr>\n",
       "  </tbody>\n",
       "</table>\n",
       "<p>2290 rows × 6 columns</p>\n",
       "</div>"
      ],
      "text/plain": [
       "           Date          SPX         GLD        USO      SLV   EUR/USD\n",
       "0      1/2/2008  1447.160034   84.860001  78.470001  15.1800  1.471692\n",
       "1      1/3/2008  1447.160034   85.570000  78.370003  15.2850  1.474491\n",
       "2      1/4/2008  1411.630005   85.129997  77.309998  15.1670  1.475492\n",
       "3      1/7/2008  1416.180054   84.769997  75.500000  15.0530  1.468299\n",
       "4      1/8/2008  1390.189941   86.779999  76.059998  15.5900  1.557099\n",
       "...         ...          ...         ...        ...      ...       ...\n",
       "2285   5/8/2018  2671.919922  124.589996  14.060000  15.5100  1.186789\n",
       "2286   5/9/2018  2697.790039  124.330002  14.370000  15.5300  1.184722\n",
       "2287  5/10/2018  2723.070068  125.180000  14.410000  15.7400  1.191753\n",
       "2288  5/14/2018  2730.129883  124.489998  14.380000  15.5600  1.193118\n",
       "2289  5/16/2018  2725.780029  122.543800  14.405800  15.4542  1.182033\n",
       "\n",
       "[2290 rows x 6 columns]"
      ]
     },
     "execution_count": 3,
     "metadata": {},
     "output_type": "execute_result"
    }
   ],
   "source": [
    "gold_data"
   ]
  },
  {
   "cell_type": "code",
   "execution_count": 4,
   "metadata": {
    "colab": {
     "base_uri": "https://localhost:8080/"
    },
    "id": "5p3zrN3F0hUo",
    "outputId": "e60b48a3-758f-48a6-e266-87378df5d213"
   },
   "outputs": [
    {
     "data": {
      "text/plain": [
       "(2290, 6)"
      ]
     },
     "execution_count": 4,
     "metadata": {},
     "output_type": "execute_result"
    }
   ],
   "source": [
    "gold_data.shape"
   ]
  },
  {
   "cell_type": "markdown",
   "metadata": {
    "id": "CjDKyiblz2bg"
   },
   "source": [
    "### Getting some information out of the dataset"
   ]
  },
  {
   "cell_type": "code",
   "execution_count": 5,
   "metadata": {
    "colab": {
     "base_uri": "https://localhost:8080/"
    },
    "id": "6wq1Uu6cs_p8",
    "outputId": "db9e7602-92f2-4f4e-e8e7-01cf7220276f"
   },
   "outputs": [
    {
     "name": "stdout",
     "output_type": "stream",
     "text": [
      "<class 'pandas.core.frame.DataFrame'>\n",
      "RangeIndex: 2290 entries, 0 to 2289\n",
      "Data columns (total 6 columns):\n",
      " #   Column   Non-Null Count  Dtype  \n",
      "---  ------   --------------  -----  \n",
      " 0   Date     2290 non-null   object \n",
      " 1   SPX      2290 non-null   float64\n",
      " 2   GLD      2290 non-null   float64\n",
      " 3   USO      2290 non-null   float64\n",
      " 4   SLV      2290 non-null   float64\n",
      " 5   EUR/USD  2290 non-null   float64\n",
      "dtypes: float64(5), object(1)\n",
      "memory usage: 107.5+ KB\n"
     ]
    }
   ],
   "source": [
    "gold_data.info()"
   ]
  },
  {
   "cell_type": "markdown",
   "metadata": {
    "id": "3h1HBPEN0BGW"
   },
   "source": [
    "### Checking for null values"
   ]
  },
  {
   "cell_type": "code",
   "execution_count": 6,
   "metadata": {
    "colab": {
     "base_uri": "https://localhost:8080/"
    },
    "id": "Ivq987GFz-3P",
    "outputId": "81931cbe-25c0-46ed-e683-eef00149e725"
   },
   "outputs": [
    {
     "data": {
      "text/plain": [
       "Date       0\n",
       "SPX        0\n",
       "GLD        0\n",
       "USO        0\n",
       "SLV        0\n",
       "EUR/USD    0\n",
       "dtype: int64"
      ]
     },
     "execution_count": 6,
     "metadata": {},
     "output_type": "execute_result"
    }
   ],
   "source": [
    "gold_data.isnull().sum()"
   ]
  },
  {
   "cell_type": "markdown",
   "metadata": {
    "id": "pYbH58ie6-_H"
   },
   "source": [
    "### Checking the relation between different columns"
   ]
  },
  {
   "cell_type": "code",
   "execution_count": 7,
   "metadata": {
    "colab": {
     "base_uri": "https://localhost:8080/"
    },
    "id": "gdMeZrrV7IdQ",
    "outputId": "0602d8e1-f6fb-4eab-dea9-5d7d26100513"
   },
   "outputs": [
    {
     "name": "stderr",
     "output_type": "stream",
     "text": [
      "C:\\Users\\Somenath\\AppData\\Local\\Temp\\ipykernel_4432\\1828644926.py:1: FutureWarning: The default value of numeric_only in DataFrame.corr is deprecated. In a future version, it will default to False. Select only valid columns or specify the value of numeric_only to silence this warning.\n",
      "  correlation = gold_data.corr()\n"
     ]
    }
   ],
   "source": [
    "correlation = gold_data.corr()"
   ]
  },
  {
   "cell_type": "markdown",
   "metadata": {
    "id": "iIOgRcLl7W1X"
   },
   "source": [
    "### Constructing heap map to understand the correlation"
   ]
  },
  {
   "cell_type": "code",
   "execution_count": 8,
   "metadata": {
    "colab": {
     "base_uri": "https://localhost:8080/",
     "height": 675
    },
    "id": "aAVoU9wx7T_a",
    "outputId": "c2d12338-10b7-427d-a162-0343b295bb24"
   },
   "outputs": [
    {
     "data": {
      "text/plain": [
       "<Axes: >"
      ]
     },
     "execution_count": 8,
     "metadata": {},
     "output_type": "execute_result"
    },
    {
     "data": {
      "image/png": "[encoded data removed]",
      "text/plain": [
       "<Figure size 800x800 with 2 Axes>"
      ]
     },
     "metadata": {},
     "output_type": "display_data"
    }
   ],
   "source": [
    "plt.figure(figsize=(8, 8))\n",
    "sns.heatmap(correlation, cbar=True, square=True, fmt='.1f', annot=True, annot_kws={'size' : 8}, cmap='Blues')"
   ]
  },
  {
   "cell_type": "markdown",
   "metadata": {
    "id": "DT7zbyZuC-87"
   },
   "source": [
    "### Removing the unnecessary columns"
   ]
  },
  {
   "cell_type": "code",
   "execution_count": 9,
   "metadata": {
    "id": "O35LGjT673ua"
   },
   "outputs": [],
   "source": [
    "gold_data.drop(columns=[\"Date\"], axis=1, inplace=True)"
   ]
  },
  {
   "cell_type": "code",
   "execution_count": 10,
   "metadata": {
    "colab": {
     "base_uri": "https://localhost:8080/",
     "height": 206
    },
    "id": "pboYPLeXDM14",
    "outputId": "fd4ff93b-89db-463a-ba8f-f60049aac108"
   },
   "outputs": [
    {
     "data": {
      "text/html": [
       "<div>\n",
       "<style scoped>\n",
       "    .dataframe tbody tr th:only-of-type {\n",
       "        vertical-align: middle;\n",
       "    }\n",
       "\n",
       "    .dataframe tbody tr th {\n",
       "        vertical-align: top;\n",
       "    }\n",
       "\n",
       "    .dataframe thead th {\n",
       "        text-align: right;\n",
       "    }\n",
       "</style>\n",
       "<table border=\"1\" class=\"dataframe\">\n",
       "  <thead>\n",
       "    <tr style=\"text-align: right;\">\n",
       "      <th></th>\n",
       "      <th>SPX</th>\n",
       "      <th>GLD</th>\n",
       "      <th>USO</th>\n",
       "      <th>SLV</th>\n",
       "      <th>EUR/USD</th>\n",
       "    </tr>\n",
       "  </thead>\n",
       "  <tbody>\n",
       "    <tr>\n",
       "      <th>0</th>\n",
       "      <td>1447.160034</td>\n",
       "      <td>84.860001</td>\n",
       "      <td>78.470001</td>\n",
       "      <td>15.180</td>\n",
       "      <td>1.471692</td>\n",
       "    </tr>\n",
       "    <tr>\n",
       "      <th>1</th>\n",
       "      <td>1447.160034</td>\n",
       "      <td>85.570000</td>\n",
       "      <td>78.370003</td>\n",
       "      <td>15.285</td>\n",
       "      <td>1.474491</td>\n",
       "    </tr>\n",
       "    <tr>\n",
       "      <th>2</th>\n",
       "      <td>1411.630005</td>\n",
       "      <td>85.129997</td>\n",
       "      <td>77.309998</td>\n",
       "      <td>15.167</td>\n",
       "      <td>1.475492</td>\n",
       "    </tr>\n",
       "    <tr>\n",
       "      <th>3</th>\n",
       "      <td>1416.180054</td>\n",
       "      <td>84.769997</td>\n",
       "      <td>75.500000</td>\n",
       "      <td>15.053</td>\n",
       "      <td>1.468299</td>\n",
       "    </tr>\n",
       "    <tr>\n",
       "      <th>4</th>\n",
       "      <td>1390.189941</td>\n",
       "      <td>86.779999</td>\n",
       "      <td>76.059998</td>\n",
       "      <td>15.590</td>\n",
       "      <td>1.557099</td>\n",
       "    </tr>\n",
       "  </tbody>\n",
       "</table>\n",
       "</div>"
      ],
      "text/plain": [
       "           SPX        GLD        USO     SLV   EUR/USD\n",
       "0  1447.160034  84.860001  78.470001  15.180  1.471692\n",
       "1  1447.160034  85.570000  78.370003  15.285  1.474491\n",
       "2  1411.630005  85.129997  77.309998  15.167  1.475492\n",
       "3  1416.180054  84.769997  75.500000  15.053  1.468299\n",
       "4  1390.189941  86.779999  76.059998  15.590  1.557099"
      ]
     },
     "execution_count": 10,
     "metadata": {},
     "output_type": "execute_result"
    }
   ],
   "source": [
    "gold_data.head()"
   ]
  },
  {
   "cell_type": "markdown",
   "metadata": {
    "id": "CTz1wYEXDUg8"
   },
   "source": [
    "### Splitting the data into features and labels"
   ]
  },
  {
   "cell_type": "code",
   "execution_count": 11,
   "metadata": {
    "id": "0tMIvb2XDOvZ"
   },
   "outputs": [],
   "source": [
    "X = gold_data.drop(columns=['GLD'], axis=1)\n",
    "y = gold_data['GLD']"
   ]
  },
  {
   "cell_type": "code",
   "execution_count": 12,
   "metadata": {
    "colab": {
     "base_uri": "https://localhost:8080/",
     "height": 206
    },
    "id": "oRFqUn1PDf8G",
    "outputId": "a36a2054-1abb-4b06-9521-8d7d8990d444"
   },
   "outputs": [
    {
     "data": {
      "text/html": [
       "<div>\n",
       "<style scoped>\n",
       "    .dataframe tbody tr th:only-of-type {\n",
       "        vertical-align: middle;\n",
       "    }\n",
       "\n",
       "    .dataframe tbody tr th {\n",
       "        vertical-align: top;\n",
       "    }\n",
       "\n",
       "    .dataframe thead th {\n",
       "        text-align: right;\n",
       "    }\n",
       "</style>\n",
       "<table border=\"1\" class=\"dataframe\">\n",
       "  <thead>\n",
       "    <tr style=\"text-align: right;\">\n",
       "      <th></th>\n",
       "      <th>SPX</th>\n",
       "      <th>USO</th>\n",
       "      <th>SLV</th>\n",
       "      <th>EUR/USD</th>\n",
       "    </tr>\n",
       "  </thead>\n",
       "  <tbody>\n",
       "    <tr>\n",
       "      <th>0</th>\n",
       "      <td>1447.160034</td>\n",
       "      <td>78.470001</td>\n",
       "      <td>15.180</td>\n",
       "      <td>1.471692</td>\n",
       "    </tr>\n",
       "    <tr>\n",
       "      <th>1</th>\n",
       "      <td>1447.160034</td>\n",
       "      <td>78.370003</td>\n",
       "      <td>15.285</td>\n",
       "      <td>1.474491</td>\n",
       "    </tr>\n",
       "    <tr>\n",
       "      <th>2</th>\n",
       "      <td>1411.630005</td>\n",
       "      <td>77.309998</td>\n",
       "      <td>15.167</td>\n",
       "      <td>1.475492</td>\n",
       "    </tr>\n",
       "    <tr>\n",
       "      <th>3</th>\n",
       "      <td>1416.180054</td>\n",
       "      <td>75.500000</td>\n",
       "      <td>15.053</td>\n",
       "      <td>1.468299</td>\n",
       "    </tr>\n",
       "    <tr>\n",
       "      <th>4</th>\n",
       "      <td>1390.189941</td>\n",
       "      <td>76.059998</td>\n",
       "      <td>15.590</td>\n",
       "      <td>1.557099</td>\n",
       "    </tr>\n",
       "  </tbody>\n",
       "</table>\n",
       "</div>"
      ],
      "text/plain": [
       "           SPX        USO     SLV   EUR/USD\n",
       "0  1447.160034  78.470001  15.180  1.471692\n",
       "1  1447.160034  78.370003  15.285  1.474491\n",
       "2  1411.630005  77.309998  15.167  1.475492\n",
       "3  1416.180054  75.500000  15.053  1.468299\n",
       "4  1390.189941  76.059998  15.590  1.557099"
      ]
     },
     "execution_count": 12,
     "metadata": {},
     "output_type": "execute_result"
    }
   ],
   "source": [
    "X.head()"
   ]
  },
  {
   "cell_type": "code",
   "execution_count": 13,
   "metadata": {
    "colab": {
     "base_uri": "https://localhost:8080/"
    },
    "id": "s2OWQZiTDhVx",
    "outputId": "cea99c73-0983-493f-94d5-cbf804bc69ab"
   },
   "outputs": [
    {
     "data": {
      "text/plain": [
       "0    84.860001\n",
       "1    85.570000\n",
       "2    85.129997\n",
       "3    84.769997\n",
       "4    86.779999\n",
       "Name: GLD, dtype: float64"
      ]
     },
     "execution_count": 13,
     "metadata": {},
     "output_type": "execute_result"
    }
   ],
   "source": [
    "y.head()"
   ]
  },
  {
   "cell_type": "markdown",
   "metadata": {
    "id": "ZDsYQWzZDqN9"
   },
   "source": [
    "### Implementing Train Test Split"
   ]
  },
  {
   "cell_type": "code",
   "execution_count": 14,
   "metadata": {
    "id": "rYuPOLoEDjEf"
   },
   "outputs": [],
   "source": [
    "X_train, X_test, y_train, y_test = train_test_split(X, y, test_size=0.2, random_state=3)"
   ]
  },
  {
   "cell_type": "markdown",
   "metadata": {
    "id": "Jz8qtQBqFM3g"
   },
   "source": [
    "### Initializing the model"
   ]
  },
  {
   "cell_type": "code",
   "execution_count": 15,
   "metadata": {
    "id": "uMw0gpmmD7Cm"
   },
   "outputs": [],
   "source": [
    "model = RandomForestRegressor(n_estimators=100)"
   ]
  },
  {
   "cell_type": "markdown",
   "metadata": {
    "id": "fIdmoGXGF93n"
   },
   "source": [
    "### Training the Model"
   ]
  },
  {
   "cell_type": "code",
   "execution_count": 16,
   "metadata": {
    "colab": {
     "base_uri": "https://localhost:8080/",
     "height": 74
    },
    "id": "BffNcDEYF7RQ",
    "outputId": "ffd7ce5f-d1c7-4454-fd96-e88a6981105d"
   },
   "outputs": [
    {
     "data": {
      "text/html": [
       "<style>#sk-container-id-1 {color: black;background-color: white;}#sk-container-id-1 pre{padding: 0;}#sk-container-id-1 div.sk-toggleable {background-color: white;}#sk-container-id-1 label.sk-toggleable__label {cursor: pointer;display: block;width: 100%;margin-bottom: 0;padding: 0.3em;box-sizing: border-box;text-align: center;}#sk-container-id-1 label.sk-toggleable__label-arrow:before {content: \"▸\";float: left;margin-right: 0.25em;color: #696969;}#sk-container-id-1 label.sk-toggleable__label-arrow:hover:before {color: black;}#sk-container-id-1 div.sk-estimator:hover label.sk-toggleable__label-arrow:before {color: black;}#sk-container-id-1 div.sk-toggleable__content {max-height: 0;max-width: 0;overflow: hidden;text-align: left;background-color: #f0f8ff;}#sk-container-id-1 div.sk-toggleable__content pre {margin: 0.2em;color: black;border-radius: 0.25em;background-color: #f0f8ff;}#sk-container-id-1 input.sk-toggleable__control:checked~div.sk-toggleable__content {max-height: 200px;max-width: 100%;overflow: auto;}#sk-container-id-1 input.sk-toggleable__control:checked~label.sk-toggleable__label-arrow:before {content: \"▾\";}#sk-container-id-1 div.sk-estimator input.sk-toggleable__control:checked~label.sk-toggleable__label {background-color: #d4ebff;}#sk-container-id-1 div.sk-label input.sk-toggleable__control:checked~label.sk-toggleable__label {background-color: #d4ebff;}#sk-container-id-1 input.sk-hidden--visually {border: 0;clip: rect(1px 1px 1px 1px);clip: rect(1px, 1px, 1px, 1px);height: 1px;margin: -1px;overflow: hidden;padding: 0;position: absolute;width: 1px;}#sk-container-id-1 div.sk-estimator {font-family: monospace;background-color: #f0f8ff;border: 1px dotted black;border-radius: 0.25em;box-sizing: border-box;margin-bottom: 0.5em;}#sk-container-id-1 div.sk-estimator:hover {background-color: #d4ebff;}#sk-container-id-1 div.sk-parallel-item::after {content: \"\";width: 100%;border-bottom: 1px solid gray;flex-grow: 1;}#sk-container-id-1 div.sk-label:hover label.sk-toggleable__label {background-color: #d4ebff;}#sk-container-id-1 div.sk-serial::before {content: \"\";position: absolute;border-left: 1px solid gray;box-sizing: border-box;top: 0;bottom: 0;left: 50%;z-index: 0;}#sk-container-id-1 div.sk-serial {display: flex;flex-direction: column;align-items: center;background-color: white;padding-right: 0.2em;padding-left: 0.2em;position: relative;}#sk-container-id-1 div.sk-item {position: relative;z-index: 1;}#sk-container-id-1 div.sk-parallel {display: flex;align-items: stretch;justify-content: center;background-color: white;position: relative;}#sk-container-id-1 div.sk-item::before, #sk-container-id-1 div.sk-parallel-item::before {content: \"\";position: absolute;border-left: 1px solid gray;box-sizing: border-box;top: 0;bottom: 0;left: 50%;z-index: -1;}#sk-container-id-1 div.sk-parallel-item {display: flex;flex-direction: column;z-index: 1;position: relative;background-color: white;}#sk-container-id-1 div.sk-parallel-item:first-child::after {align-self: flex-end;width: 50%;}#sk-container-id-1 div.sk-parallel-item:last-child::after {align-self: flex-start;width: 50%;}#sk-container-id-1 div.sk-parallel-item:only-child::after {width: 0;}#sk-container-id-1 div.sk-dashed-wrapped {border: 1px dashed gray;margin: 0 0.4em 0.5em 0.4em;box-sizing: border-box;padding-bottom: 0.4em;background-color: white;}#sk-container-id-1 div.sk-label label {font-family: monospace;font-weight: bold;display: inline-block;line-height: 1.2em;}#sk-container-id-1 div.sk-label-container {text-align: center;}#sk-container-id-1 div.sk-container {/* jupyter's `normalize.less` sets `[hidden] { display: none; }` but bootstrap.min.css set `[hidden] { display: none !important; }` so we also need the `!important` here to be able to override the default hidden behavior on the sphinx rendered scikit-learn.org. See: https://github.com/scikit-learn/scikit-learn/issues/21755 */display: inline-block !important;position: relative;}#sk-container-id-1 div.sk-text-repr-fallback {display: none;}</style><div id=\"sk-container-id-1\" class=\"sk-top-container\"><div class=\"sk-text-repr-fallback\"><pre>RandomForestRegressor()</pre><b>In a Jupyter environment, please rerun this cell to show the HTML representation or trust the notebook. <br />On GitHub, the HTML representation is unable to render, please try loading this page with nbviewer.org.</b></div><div class=\"sk-container\" hidden><div class=\"sk-item\"><div class=\"sk-estimator sk-toggleable\"><input class=\"sk-toggleable__control sk-hidden--visually\" id=\"sk-estimator-id-1\" type=\"checkbox\" checked><label for=\"sk-estimator-id-1\" class=\"sk-toggleable__label sk-toggleable__label-arrow\">RandomForestRegressor</label><div class=\"sk-toggleable__content\"><pre>RandomForestRegressor()</pre></div></div></div></div></div>"
      ],
      "text/plain": [
       "RandomForestRegressor()"
      ]
     },
     "execution_count": 16,
     "metadata": {},
     "output_type": "execute_result"
    }
   ],
   "source": [
    "model.fit(X_train, y_train)"
   ]
  },
  {
   "cell_type": "markdown",
   "metadata": {
    "id": "49qXsrJmGGw5"
   },
   "source": [
    "### Calculating the accuracy of the model on training and testing data"
   ]
  },
  {
   "cell_type": "code",
   "execution_count": 17,
   "metadata": {
    "colab": {
     "base_uri": "https://localhost:8080/"
    },
    "id": "Iwrji3XMGDFA",
    "outputId": "925b32b7-86ff-4047-db05-daf5e90624f1"
   },
   "outputs": [
    {
     "name": "stdout",
     "output_type": "stream",
     "text": [
      "Accuracy on training data: 0.9985331248246934\n"
     ]
    }
   ],
   "source": [
    "prediction_X_train = model.predict(X_train)\n",
    "\n",
    "print(f\"Accuracy on training data: {r2_score(y_train, prediction_X_train)}\")"
   ]
  },
  {
   "cell_type": "code",
   "execution_count": 18,
   "metadata": {
    "colab": {
     "base_uri": "https://localhost:8080/"
    },
    "id": "ZFik7tSMG6FC",
    "outputId": "973fbdf0-ccb8-4197-ef53-34e587f70a72"
   },
   "outputs": [
    {
     "name": "stdout",
     "output_type": "stream",
     "text": [
      "Accuracy on training data: 0.9853389978186832\n"
     ]
    }
   ],
   "source": [
    "prediction_X_test = model.predict(X_test)\n",
    "\n",
    "print(f\"Accuracy on training data: {r2_score(y_test, prediction_X_test)}\")"
   ]
  },
  {
   "cell_type": "markdown",
   "metadata": {
    "id": "p6f87Be_HW26"
   },
   "source": [
    "### Predicted Value VS Actual Value"
   ]
  },
  {
   "cell_type": "code",
   "execution_count": 19,
   "metadata": {
    "colab": {
     "base_uri": "https://localhost:8080/"
    },
    "id": "9N8BTaGzG_L5",
    "outputId": "c43d255f-49b9-494a-caa7-c7a28277a2f5"
   },
   "outputs": [
    {
     "name": "stdout",
     "output_type": "stream",
     "text": [
      "Predicted Gold Price: $165.3879995. Actual Gold Price: $161.990005\n",
      "Predicted Gold Price: $127.54389906999988. Actual Gold Price: $127.580002\n",
      "Predicted Gold Price: $124.19769966000001. Actual Gold Price: $124.57\n",
      "Predicted Gold Price: $119.66629892999993. Actual Gold Price: $118.970001\n",
      "Predicted Gold Price: $125.97909905999981. Actual Gold Price: $125.720001\n",
      "Predicted Gold Price: $86.69239787000002. Actual Gold Price: $85.129997\n",
      "Predicted Gold Price: $171.77900145999996. Actual Gold Price: $171.470001\n",
      "Predicted Gold Price: $138.34379997. Actual Gold Price: $155.330002\n",
      "Predicted Gold Price: $106.86610064000004. Actual Gold Price: $108.089996\n",
      "Predicted Gold Price: $133.31430175999998. Actual Gold Price: $130.589996\n",
      "Predicted Gold Price: $120.56569956999994. Actual Gold Price: $119.82\n",
      "Predicted Gold Price: $124.87490053999996. Actual Gold Price: $124.599998\n",
      "Predicted Gold Price: $143.47709835000012. Actual Gold Price: $142.380005\n",
      "Predicted Gold Price: $104.60170024000007. Actual Gold Price: $105.699997\n",
      "Predicted Gold Price: $80.75009923000005. Actual Gold Price: $80.760002\n",
      "Predicted Gold Price: $120.32739984000008. Actual Gold Price: $123.709999\n",
      "Predicted Gold Price: $140.21039969. Actual Gold Price: $139.050003\n",
      "Predicted Gold Price: $90.21150098000004. Actual Gold Price: $88.25\n",
      "Predicted Gold Price: $91.45589939. Actual Gold Price: $92.309998\n",
      "Predicted Gold Price: $128.31700221999995. Actual Gold Price: $127.839996\n",
      "Predicted Gold Price: $125.58759943000001. Actual Gold Price: $126.300003\n",
      "Predicted Gold Price: $147.86289990999995. Actual Gold Price: $149.880005\n",
      "Predicted Gold Price: $116.65220159000002. Actual Gold Price: $117.730003\n",
      "Predicted Gold Price: $153.42419948999992. Actual Gold Price: $154.669998\n",
      "Predicted Gold Price: $129.28519842999995. Actual Gold Price: $130.559998\n",
      "Predicted Gold Price: $130.33780092000003. Actual Gold Price: $130.619995\n",
      "Predicted Gold Price: $118.33420130999997. Actual Gold Price: $119.769997\n",
      "Predicted Gold Price: $111.49490063000002. Actual Gold Price: $112.059998\n",
      "Predicted Gold Price: $167.56690185. Actual Gold Price: $170.850006\n",
      "Predicted Gold Price: $157.9959980499999. Actual Gold Price: $157.770004\n",
      "Predicted Gold Price: $125.93990152999999. Actual Gold Price: $126.230003\n",
      "Predicted Gold Price: $154.08670231999994. Actual Gold Price: $152.990005\n",
      "Predicted Gold Price: $127.03209968000006. Actual Gold Price: $128.830002\n",
      "Predicted Gold Price: $122.92019781999984. Actual Gold Price: $122.900002\n",
      "Predicted Gold Price: $116.53020137000004. Actual Gold Price: $115.989998\n",
      "Predicted Gold Price: $154.8092999499998. Actual Gold Price: $155.360001\n",
      "Predicted Gold Price: $114.87049985000003. Actual Gold Price: $116.010002\n",
      "Predicted Gold Price: $120.46570138000004. Actual Gold Price: $121.129997\n",
      "Predicted Gold Price: $103.77710199000003. Actual Gold Price: $104.68\n",
      "Predicted Gold Price: $105.59550000999991. Actual Gold Price: $107.730003\n",
      "Predicted Gold Price: $134.29009895. Actual Gold Price: $133.509995\n",
      "Predicted Gold Price: $85.83879973. Actual Gold Price: $84.769997\n",
      "Predicted Gold Price: $154.76550066999988. Actual Gold Price: $159.300003\n",
      "Predicted Gold Price: $121.16919985999995. Actual Gold Price: $121.239998\n",
      "Predicted Gold Price: $122.33240052000001. Actual Gold Price: $122.959999\n",
      "Predicted Gold Price: $155.61100062999995. Actual Gold Price: $156.300003\n",
      "Predicted Gold Price: $120.37890043000009. Actual Gold Price: $119.68\n",
      "Predicted Gold Price: $116.52929991000013. Actual Gold Price: $116.080002\n",
      "Predicted Gold Price: $169.18660256000007. Actual Gold Price: $169.630005\n",
      "Predicted Gold Price: $116.28440066000006. Actual Gold Price: $116.099998\n",
      "Predicted Gold Price: $137.39000066999998. Actual Gold Price: $135.199997\n",
      "Predicted Gold Price: $161.83079847999983. Actual Gold Price: $161.960007\n",
      "Predicted Gold Price: $158.29630083000006. Actual Gold Price: $159.460007\n",
      "Predicted Gold Price: $153.1396012599999. Actual Gold Price: $151.619995\n",
      "Predicted Gold Price: $123.77200030999997. Actual Gold Price: $124.389999\n",
      "Predicted Gold Price: $116.96180048999997. Actual Gold Price: $115.779999\n",
      "Predicted Gold Price: $167.18640020999985. Actual Gold Price: $167.559998\n",
      "Predicted Gold Price: $117.20999921999993. Actual Gold Price: $115.550003\n",
      "Predicted Gold Price: $165.66240034999987. Actual Gold Price: $165.800003\n",
      "Predicted Gold Price: $84.50809992999997. Actual Gold Price: $84.459999\n",
      "Predicted Gold Price: $121.32699907000004. Actual Gold Price: $122.129997\n",
      "Predicted Gold Price: $122.25740020000003. Actual Gold Price: $122.07\n",
      "Predicted Gold Price: $119.76760036. Actual Gold Price: $119.330002\n",
      "Predicted Gold Price: $171.9920983700001. Actual Gold Price: $172.339996\n",
      "Predicted Gold Price: $118.73329966000009. Actual Gold Price: $119.410004\n",
      "Predicted Gold Price: $180.45809715999985. Actual Gold Price: $181.809998\n",
      "Predicted Gold Price: $161.82220340999996. Actual Gold Price: $160.630005\n",
      "Predicted Gold Price: $137.87530213. Actual Gold Price: $135.110001\n",
      "Predicted Gold Price: $115.60670037999991. Actual Gold Price: $114.739998\n",
      "Predicted Gold Price: $92.70940029000003. Actual Gold Price: $93.129997\n",
      "Predicted Gold Price: $171.97499944000006. Actual Gold Price: $172.100006\n",
      "Predicted Gold Price: $117.62850021. Actual Gold Price: $117.75\n",
      "Predicted Gold Price: $117.96769849. Actual Gold Price: $118.519997\n",
      "Predicted Gold Price: $125.57830011. Actual Gold Price: $124.790001\n",
      "Predicted Gold Price: $146.75239991000018. Actual Gold Price: $145.649994\n",
      "Predicted Gold Price: $91.03340135999997. Actual Gold Price: $91.230003\n",
      "Predicted Gold Price: $83.83789865999995. Actual Gold Price: $82.75\n",
      "Predicted Gold Price: $88.69059959999998. Actual Gold Price: $89.220001\n",
      "Predicted Gold Price: $102.6881989200001. Actual Gold Price: $102.839996\n",
      "Predicted Gold Price: $124.61150047999996. Actual Gold Price: $124.150002\n",
      "Predicted Gold Price: $123.31070056000011. Actual Gold Price: $121.559998\n",
      "Predicted Gold Price: $169.53440275000005. Actual Gold Price: $172.940002\n",
      "Predicted Gold Price: $120.98759968999995. Actual Gold Price: $120.050003\n",
      "Predicted Gold Price: $125.18399997999991. Actual Gold Price: $127.010002\n",
      "Predicted Gold Price: $160.23590574000002. Actual Gold Price: $159.369995\n",
      "Predicted Gold Price: $120.57360129999999. Actual Gold Price: $120.669998\n",
      "Predicted Gold Price: $170.74420242999997. Actual Gold Price: $170.399994\n",
      "Predicted Gold Price: $148.5453972199999. Actual Gold Price: $147.380005\n",
      "Predicted Gold Price: $87.20039941. Actual Gold Price: $87.239998\n",
      "Predicted Gold Price: $126.69770020000001. Actual Gold Price: $126.559998\n",
      "Predicted Gold Price: $118.76020069000006. Actual Gold Price: $118.360001\n",
      "Predicted Gold Price: $90.11709974999998. Actual Gold Price: $89.330002\n",
      "Predicted Gold Price: $118.98650000000002. Actual Gold Price: $117.68\n",
      "Predicted Gold Price: $116.69739812. Actual Gold Price: $115.839996\n",
      "Predicted Gold Price: $89.08609895000001. Actual Gold Price: $88.279999\n",
      "Predicted Gold Price: $136.4651025100001. Actual Gold Price: $141.110001\n",
      "Predicted Gold Price: $160.85820106. Actual Gold Price: $162.020004\n",
      "Predicted Gold Price: $131.31320395999998. Actual Gold Price: $129.520004\n",
      "Predicted Gold Price: $105.27010087000006. Actual Gold Price: $107.099998\n",
      "Predicted Gold Price: $122.67649983000001. Actual Gold Price: $122.809998\n",
      "Predicted Gold Price: $120.90690011000002. Actual Gold Price: $122.379997\n",
      "Predicted Gold Price: $124.16260106000009. Actual Gold Price: $123.639999\n",
      "Predicted Gold Price: $108.24030013999993. Actual Gold Price: $106.129997\n",
      "Predicted Gold Price: $115.34930074000005. Actual Gold Price: $115.68\n",
      "Predicted Gold Price: $114.03589941999988. Actual Gold Price: $115.089996\n",
      "Predicted Gold Price: $120.76190061000007. Actual Gold Price: $119.040001\n",
      "Predicted Gold Price: $159.0266024300001. Actual Gold Price: $161.220001\n",
      "Predicted Gold Price: $126.58119933000003. Actual Gold Price: $128.470001\n",
      "Predicted Gold Price: $120.05669963999999. Actual Gold Price: $121.790001\n",
      "Predicted Gold Price: $91.10359957000003. Actual Gold Price: $88.989998\n",
      "Predicted Gold Price: $125.29849963999999. Actual Gold Price: $128.119995\n",
      "Predicted Gold Price: $161.64609858999995. Actual Gold Price: $162.600006\n",
      "Predicted Gold Price: $159.59950255000004. Actual Gold Price: $138.720001\n",
      "Predicted Gold Price: $87.74609926. Actual Gold Price: $88.839996\n",
      "Predicted Gold Price: $139.0379996199999. Actual Gold Price: $138.860001\n",
      "Predicted Gold Price: $167.15699878999993. Actual Gold Price: $168.029999\n",
      "Predicted Gold Price: $154.60090041. Actual Gold Price: $154.770004\n",
      "Predicted Gold Price: $109.30580037999997. Actual Gold Price: $107.790001\n",
      "Predicted Gold Price: $108.76889839000002. Actual Gold Price: $110.400002\n",
      "Predicted Gold Price: $124.35739989999995. Actual Gold Price: $125.489998\n",
      "Predicted Gold Price: $113.97240190000008. Actual Gold Price: $113.68\n",
      "Predicted Gold Price: $117.47469991999996. Actual Gold Price: $118.769997\n",
      "Predicted Gold Price: $160.97660140000013. Actual Gold Price: $161.080002\n",
      "Predicted Gold Price: $121.68460065000005. Actual Gold Price: $123.139999\n",
      "Predicted Gold Price: $143.98529634. Actual Gold Price: $145.929993\n",
      "Predicted Gold Price: $116.26580102. Actual Gold Price: $117.57\n",
      "Predicted Gold Price: $163.46770217999997. Actual Gold Price: $163.160004\n",
      "Predicted Gold Price: $119.90649942000015. Actual Gold Price: $120.32\n",
      "Predicted Gold Price: $112.52150075999992. Actual Gold Price: $112.669998\n",
      "Predicted Gold Price: $146.80259923000003. Actual Gold Price: $173.529999\n",
      "Predicted Gold Price: $104.19169932000005. Actual Gold Price: $104.389999\n",
      "Predicted Gold Price: $121.84939991999998. Actual Gold Price: $122.699997\n",
      "Predicted Gold Price: $77.96559967999993. Actual Gold Price: $79.75\n",
      "Predicted Gold Price: $161.39329750000002. Actual Gold Price: $163.169998\n",
      "Predicted Gold Price: $125.88150044000002. Actual Gold Price: $125.470001\n",
      "Predicted Gold Price: $132.14340109. Actual Gold Price: $132.809998\n",
      "Predicted Gold Price: $120.01279970999992. Actual Gold Price: $122.290001\n",
      "Predicted Gold Price: $107.83449996000007. Actual Gold Price: $108.589996\n",
      "Predicted Gold Price: $153.19850100000014. Actual Gold Price: $153.520004\n",
      "Predicted Gold Price: $114.39810039999999. Actual Gold Price: $112.290001\n",
      "Predicted Gold Price: $162.1534997899999. Actual Gold Price: $162.190002\n",
      "Predicted Gold Price: $128.54490180999983. Actual Gold Price: $130.229996\n",
      "Predicted Gold Price: $91.72220131000002. Actual Gold Price: $90.949997\n",
      "Predicted Gold Price: $121.19893737999986. Actual Gold Price: $121.18\n",
      "Predicted Gold Price: $130.94809937000008. Actual Gold Price: $130.990005\n",
      "Predicted Gold Price: $89.67709994999997. Actual Gold Price: $89.150002\n",
      "Predicted Gold Price: $120.33690021000001. Actual Gold Price: $120.010002\n",
      "Predicted Gold Price: $120.19740115000002. Actual Gold Price: $119.790001\n",
      "Predicted Gold Price: $112.87370073000002. Actual Gold Price: $109.699997\n",
      "Predicted Gold Price: $90.62470125999998. Actual Gold Price: $90.279999\n",
      "Predicted Gold Price: $91.16999899000002. Actual Gold Price: $91.449997\n",
      "Predicted Gold Price: $117.17280006000001. Actual Gold Price: $115.519997\n",
      "Predicted Gold Price: $151.1995002299999. Actual Gold Price: $152.619995\n",
      "Predicted Gold Price: $113.22649959999991. Actual Gold Price: $112.040001\n",
      "Predicted Gold Price: $132.26750138999998. Actual Gold Price: $132.449997\n",
      "Predicted Gold Price: $117.42870134. Actual Gold Price: $115.489998\n",
      "Predicted Gold Price: $119.26200038999993. Actual Gold Price: $119.720001\n",
      "Predicted Gold Price: $156.49039881000007. Actual Gold Price: $156.990005\n",
      "Predicted Gold Price: $127.83510348000001. Actual Gold Price: $127.349998\n",
      "Predicted Gold Price: $114.85139981000003. Actual Gold Price: $115.639999\n",
      "Predicted Gold Price: $119.81009998999998. Actual Gold Price: $121.190002\n",
      "Predicted Gold Price: $139.82009925000014. Actual Gold Price: $137.660004\n",
      "Predicted Gold Price: $115.71770095000002. Actual Gold Price: $117.400002\n",
      "Predicted Gold Price: $92.32509883999995. Actual Gold Price: $92.269997\n",
      "Predicted Gold Price: $89.84710016. Actual Gold Price: $90.300003\n",
      "Predicted Gold Price: $166.45420316000013. Actual Gold Price: $166.399994\n",
      "Predicted Gold Price: $112.19779956000002. Actual Gold Price: $111.540001\n",
      "Predicted Gold Price: $115.67240054000004. Actual Gold Price: $115.879997\n",
      "Predicted Gold Price: $119.87820139000003. Actual Gold Price: $119.580002\n",
      "Predicted Gold Price: $114.48469964000009. Actual Gold Price: $114.099998\n",
      "Predicted Gold Price: $92.46469854999995. Actual Gold Price: $92.290001\n",
      "Predicted Gold Price: $117.48039912999994. Actual Gold Price: $118.059998\n",
      "Predicted Gold Price: $155.07610245. Actual Gold Price: $156.220001\n",
      "Predicted Gold Price: $151.34190005999997. Actual Gold Price: $155.919998\n",
      "Predicted Gold Price: $93.04619941000004. Actual Gold Price: $93.150002\n",
      "Predicted Gold Price: $126.09940037999995. Actual Gold Price: $124.779999\n",
      "Predicted Gold Price: $104.29789925000001. Actual Gold Price: $104.099998\n",
      "Predicted Gold Price: $155.72580091000006. Actual Gold Price: $155.380005\n",
      "Predicted Gold Price: $115.20870071000007. Actual Gold Price: $115.699997\n",
      "Predicted Gold Price: $119.94939831999991. Actual Gold Price: $119.230003\n",
      "Predicted Gold Price: $91.58119921999997. Actual Gold Price: $91.93\n",
      "Predicted Gold Price: $91.88520069999998. Actual Gold Price: $91.879997\n",
      "Predicted Gold Price: $153.17110055999987. Actual Gold Price: $152.080002\n",
      "Predicted Gold Price: $173.57659762000003. Actual Gold Price: $175.779999\n",
      "Predicted Gold Price: $79.11489958999998. Actual Gold Price: $72.800003\n",
      "Predicted Gold Price: $126.19269914000002. Actual Gold Price: $125.029999\n",
      "Predicted Gold Price: $119.26220063999996. Actual Gold Price: $118.989998\n",
      "Predicted Gold Price: $149.79620090000006. Actual Gold Price: $152.710007\n",
      "Predicted Gold Price: $91.01610062. Actual Gold Price: $91.330002\n",
      "Predicted Gold Price: $163.92630181000015. Actual Gold Price: $162.300003\n",
      "Predicted Gold Price: $138.84759733999996. Actual Gold Price: $140.809998\n",
      "Predicted Gold Price: $117.38030108000021. Actual Gold Price: $118.480003\n",
      "Predicted Gold Price: $143.04439993. Actual Gold Price: $155.759995\n",
      "Predicted Gold Price: $82.2127981. Actual Gold Price: $83.459999\n",
      "Predicted Gold Price: $124.96059891999995. Actual Gold Price: $125.959999\n",
      "Predicted Gold Price: $118.89250122000001. Actual Gold Price: $117.959999\n",
      "Predicted Gold Price: $90.99060070999998. Actual Gold Price: $91.25\n",
      "Predicted Gold Price: $94.28679954999993. Actual Gold Price: $93.400002\n",
      "Predicted Gold Price: $173.94649657999983. Actual Gold Price: $171.800003\n",
      "Predicted Gold Price: $164.49950254000004. Actual Gold Price: $162.100006\n",
      "Predicted Gold Price: $168.11580105000002. Actual Gold Price: $165.309998\n",
      "Predicted Gold Price: $140.10360165999987. Actual Gold Price: $138.539993\n",
      "Predicted Gold Price: $118.39600064000007. Actual Gold Price: $118.110001\n",
      "Predicted Gold Price: $130.30230065000006. Actual Gold Price: $130.100006\n",
      "Predicted Gold Price: $124.26360041999999. Actual Gold Price: $123.779999\n",
      "Predicted Gold Price: $129.05989906999997. Actual Gold Price: $129.770004\n",
      "Predicted Gold Price: $121.48220043000009. Actual Gold Price: $121.330002\n",
      "Predicted Gold Price: $122.03899895999989. Actual Gold Price: $121.730003\n",
      "Predicted Gold Price: $127.12930044000002. Actual Gold Price: $128.110001\n",
      "Predicted Gold Price: $103.91550001000003. Actual Gold Price: $103.559998\n",
      "Predicted Gold Price: $115.98600086999997. Actual Gold Price: $115.059998\n",
      "Predicted Gold Price: $132.0462994300001. Actual Gold Price: $131.199997\n",
      "Predicted Gold Price: $164.98739763999998. Actual Gold Price: $164.860001\n",
      "Predicted Gold Price: $125.73000004000006. Actual Gold Price: $126.300003\n",
      "Predicted Gold Price: $113.68640194000001. Actual Gold Price: $112.660004\n",
      "Predicted Gold Price: $123.30680018000008. Actual Gold Price: $122.389999\n",
      "Predicted Gold Price: $82.54410102999998. Actual Gold Price: $82.18\n",
      "Predicted Gold Price: $102.86929877000003. Actual Gold Price: $103.559998\n",
      "Predicted Gold Price: $121.58629913. Actual Gold Price: $119.940002\n",
      "Predicted Gold Price: $163.53529987999994. Actual Gold Price: $162.940002\n",
      "Predicted Gold Price: $121.44459967000006. Actual Gold Price: $122.080002\n",
      "Predicted Gold Price: $87.36120023000004. Actual Gold Price: $87.989998\n",
      "Predicted Gold Price: $127.45110029999991. Actual Gold Price: $126.449997\n",
      "Predicted Gold Price: $108.28769912. Actual Gold Price: $107.790001\n",
      "Predicted Gold Price: $158.8222020500001. Actual Gold Price: $159.669998\n",
      "Predicted Gold Price: $163.75590063000004. Actual Gold Price: $163.259995\n",
      "Predicted Gold Price: $123.81310008999992. Actual Gold Price: $122.879997\n",
      "Predicted Gold Price: $124.51870023999996. Actual Gold Price: $124.769997\n",
      "Predicted Gold Price: $147.11039941000007. Actual Gold Price: $151.990005\n",
      "Predicted Gold Price: $89.81909940999996. Actual Gold Price: $90.900002\n",
      "Predicted Gold Price: $88.50220039000001. Actual Gold Price: $91.309998\n",
      "Predicted Gold Price: $115.56670069. Actual Gold Price: $115.599998\n",
      "Predicted Gold Price: $108.56510028999998. Actual Gold Price: $108.949997\n",
      "Predicted Gold Price: $128.29679988000004. Actual Gold Price: $129.869995\n",
      "Predicted Gold Price: $108.42070014999999. Actual Gold Price: $109.43\n",
      "Predicted Gold Price: $114.72079994000005. Actual Gold Price: $116.330002\n",
      "Predicted Gold Price: $167.84279893999997. Actual Gold Price: $168.350006\n",
      "Predicted Gold Price: $120.07069989000001. Actual Gold Price: $121.730003\n",
      "Predicted Gold Price: $107.01119943000008. Actual Gold Price: $107.559998\n",
      "Predicted Gold Price: $158.73259867000002. Actual Gold Price: $160.779999\n",
      "Predicted Gold Price: $124.89669881. Actual Gold Price: $125.410004\n",
      "Predicted Gold Price: $114.42520167999999. Actual Gold Price: $114.0\n",
      "Predicted Gold Price: $103.89680010000004. Actual Gold Price: $104.260002\n",
      "Predicted Gold Price: $149.77949872000005. Actual Gold Price: $150.479996\n",
      "Predicted Gold Price: $165.96949976. Actual Gold Price: $168.110001\n",
      "Predicted Gold Price: $171.37010354999998. Actual Gold Price: $171.050003\n",
      "Predicted Gold Price: $92.20579925000001. Actual Gold Price: $92.529999\n",
      "Predicted Gold Price: $114.60950019999997. Actual Gold Price: $114.419998\n",
      "Predicted Gold Price: $119.17519925999996. Actual Gold Price: $118.589996\n",
      "Predicted Gold Price: $113.65250082000003. Actual Gold Price: $113.150002\n",
      "Predicted Gold Price: $159.50890446000002. Actual Gold Price: $159.309998\n",
      "Predicted Gold Price: $120.17779926999994. Actual Gold Price: $120.739998\n",
      "Predicted Gold Price: $72.76160223000007. Actual Gold Price: $70.0\n",
      "Predicted Gold Price: $118.89949973000004. Actual Gold Price: $118.239998\n",
      "Predicted Gold Price: $115.44440031999991. Actual Gold Price: $115.059998\n",
      "Predicted Gold Price: $167.17899879. Actual Gold Price: $169.309998\n",
      "Predicted Gold Price: $118.94870038000012. Actual Gold Price: $117.540001\n",
      "Predicted Gold Price: $114.47799963999995. Actual Gold Price: $113.529999\n",
      "Predicted Gold Price: $94.29029937. Actual Gold Price: $94.779999\n",
      "Predicted Gold Price: $116.72930182999997. Actual Gold Price: $117.220001\n",
      "Predicted Gold Price: $128.0468993. Actual Gold Price: $128.990005\n",
      "Predicted Gold Price: $114.21149985. Actual Gold Price: $113.639999\n",
      "Predicted Gold Price: $156.29660038999992. Actual Gold Price: $157.160004\n",
      "Predicted Gold Price: $119.32270044999991. Actual Gold Price: $118.470001\n",
      "Predicted Gold Price: $118.54620133999998. Actual Gold Price: $119.870003\n",
      "Predicted Gold Price: $161.49359972000025. Actual Gold Price: $160.210007\n",
      "Predicted Gold Price: $118.4542002300001. Actual Gold Price: $118.93\n",
      "Predicted Gold Price: $95.23279927000004. Actual Gold Price: $95.449997\n",
      "Predicted Gold Price: $117.91560082999996. Actual Gold Price: $117.959999\n",
      "Predicted Gold Price: $166.3582015600001. Actual Gold Price: $168.0\n",
      "Predicted Gold Price: $111.24899863. Actual Gold Price: $109.860001\n",
      "Predicted Gold Price: $147.1146018999999. Actual Gold Price: $146.869995\n",
      "Predicted Gold Price: $118.72710038999999. Actual Gold Price: $118.639999\n",
      "Predicted Gold Price: $86.49909872999997. Actual Gold Price: $87.0\n",
      "Predicted Gold Price: $171.67880180999992. Actual Gold Price: $173.610001\n",
      "Predicted Gold Price: $154.01789793999998. Actual Gold Price: $134.100006\n",
      "Predicted Gold Price: $161.54290075999998. Actual Gold Price: $164.399994\n",
      "Predicted Gold Price: $84.47699818999999. Actual Gold Price: $83.459999\n",
      "Predicted Gold Price: $119.69610029000016. Actual Gold Price: $119.82\n",
      "Predicted Gold Price: $108.27149984999997. Actual Gold Price: $117.110001\n",
      "Predicted Gold Price: $92.57990014000005. Actual Gold Price: $93.25\n",
      "Predicted Gold Price: $72.39869955999994. Actual Gold Price: $73.790001\n",
      "Predicted Gold Price: $93.25729986000002. Actual Gold Price: $93.269997\n",
      "Predicted Gold Price: $117.50700005999997. Actual Gold Price: $118.760002\n",
      "Predicted Gold Price: $176.74489927999988. Actual Gold Price: $179.100006\n",
      "Predicted Gold Price: $115.95450107000002. Actual Gold Price: $116.720001\n",
      "Predicted Gold Price: $123.65149975999996. Actual Gold Price: $125.32\n",
      "Predicted Gold Price: $87.21999915999997. Actual Gold Price: $87.269997\n",
      "Predicted Gold Price: $113.57110053999993. Actual Gold Price: $112.57\n",
      "Predicted Gold Price: $112.04190026999997. Actual Gold Price: $110.489998\n",
      "Predicted Gold Price: $162.6028039600001. Actual Gold Price: $162.009995\n",
      "Predicted Gold Price: $119.10840133999996. Actual Gold Price: $120.089996\n",
      "Predicted Gold Price: $87.34529791999995. Actual Gold Price: $86.5\n",
      "Predicted Gold Price: $167.65649823000007. Actual Gold Price: $164.289993\n",
      "Predicted Gold Price: $125.3633001199999. Actual Gold Price: $125.980003\n",
      "Predicted Gold Price: $126.14539941000004. Actual Gold Price: $125.739998\n",
      "Predicted Gold Price: $121.49340007. Actual Gold Price: $120.110001\n",
      "Predicted Gold Price: $116.80850084000006. Actual Gold Price: $115.839996\n",
      "Predicted Gold Price: $90.02769977999994. Actual Gold Price: $89.269997\n",
      "Predicted Gold Price: $147.29429969999995. Actual Gold Price: $147.770004\n",
      "Predicted Gold Price: $108.75489892999997. Actual Gold Price: $108.699997\n",
      "Predicted Gold Price: $91.56609841999993. Actual Gold Price: $91.980003\n",
      "Predicted Gold Price: $118.38459973. Actual Gold Price: $118.82\n",
      "Predicted Gold Price: $152.58810197000017. Actual Gold Price: $152.440002\n",
      "Predicted Gold Price: $123.09299951999985. Actual Gold Price: $123.349998\n",
      "Predicted Gold Price: $142.9629987299999. Actual Gold Price: $139.139999\n",
      "Predicted Gold Price: $148.22120099999987. Actual Gold Price: $146.380005\n",
      "Predicted Gold Price: $108.30109958999999. Actual Gold Price: $111.019997\n",
      "Predicted Gold Price: $129.3702031900002. Actual Gold Price: $129.089996\n",
      "Predicted Gold Price: $112.04160007. Actual Gold Price: $111.970001\n",
      "Predicted Gold Price: $114.15090041999986. Actual Gold Price: $114.470001\n",
      "Predicted Gold Price: $115.12050012000002. Actual Gold Price: $113.75\n",
      "Predicted Gold Price: $158.22189831000003. Actual Gold Price: $133.970001\n",
      "Predicted Gold Price: $83.75649857999998. Actual Gold Price: $84.480003\n",
      "Predicted Gold Price: $124.43829944999996. Actual Gold Price: $128.460007\n",
      "Predicted Gold Price: $91.45149953. Actual Gold Price: $90.699997\n",
      "Predicted Gold Price: $113.55199925. Actual Gold Price: $113.800003\n",
      "Predicted Gold Price: $126.88419827000008. Actual Gold Price: $128.179993\n",
      "Predicted Gold Price: $92.28049997999999. Actual Gold Price: $93.260002\n",
      "Predicted Gold Price: $129.67030101000012. Actual Gold Price: $129.860001\n",
      "Predicted Gold Price: $124.2563993399999. Actual Gold Price: $124.269997\n",
      "Predicted Gold Price: $127.96809952999996. Actual Gold Price: $129.210007\n",
      "Predicted Gold Price: $122.00549892999996. Actual Gold Price: $121.620003\n",
      "Predicted Gold Price: $89.99839948999994. Actual Gold Price: $89.419998\n",
      "Predicted Gold Price: $87.21319817. Actual Gold Price: $89.900002\n",
      "Predicted Gold Price: $136.66569875000002. Actual Gold Price: $137.899994\n",
      "Predicted Gold Price: $163.86900087. Actual Gold Price: $166.550003\n",
      "Predicted Gold Price: $169.62299969999992. Actual Gold Price: $171.050003\n",
      "Predicted Gold Price: $159.8635035800001. Actual Gold Price: $161.029999\n",
      "Predicted Gold Price: $124.1280996299999. Actual Gold Price: $123.389999\n",
      "Predicted Gold Price: $106.64240032999994. Actual Gold Price: $105.900002\n",
      "Predicted Gold Price: $116.45970032000002. Actual Gold Price: $114.459999\n",
      "Predicted Gold Price: $124.24149982999994. Actual Gold Price: $124.959999\n",
      "Predicted Gold Price: $91.70309853999997. Actual Gold Price: $93.059998\n",
      "Predicted Gold Price: $167.30409901999997. Actual Gold Price: $167.270004\n",
      "Predicted Gold Price: $91.62259915999994. Actual Gold Price: $92.040001\n",
      "Predicted Gold Price: $127.95830137999994. Actual Gold Price: $127.150002\n",
      "Predicted Gold Price: $117.41180092000006. Actual Gold Price: $116.040001\n",
      "Predicted Gold Price: $166.57279898999994. Actual Gold Price: $167.289993\n",
      "Predicted Gold Price: $115.10159977999993. Actual Gold Price: $114.120003\n",
      "Predicted Gold Price: $163.4334020999999. Actual Gold Price: $163.669998\n",
      "Predicted Gold Price: $167.99759878000003. Actual Gold Price: $171.699997\n",
      "Predicted Gold Price: $84.15729965999999. Actual Gold Price: $86.519997\n",
      "Predicted Gold Price: $117.38270033999997. Actual Gold Price: $116.089996\n",
      "Predicted Gold Price: $101.90219891000001. Actual Gold Price: $100.5\n",
      "Predicted Gold Price: $130.2237015599999. Actual Gold Price: $132.130005\n",
      "Predicted Gold Price: $112.5386993999999. Actual Gold Price: $111.5\n",
      "Predicted Gold Price: $80.53389877999993. Actual Gold Price: $83.309998\n",
      "Predicted Gold Price: $92.20769993000005. Actual Gold Price: $92.290001\n",
      "Predicted Gold Price: $135.5474991199999. Actual Gold Price: $136.5\n",
      "Predicted Gold Price: $98.50959948999994. Actual Gold Price: $97.959999\n",
      "Predicted Gold Price: $117.63889865999995. Actual Gold Price: $115.199997\n",
      "Predicted Gold Price: $116.56140113999999. Actual Gold Price: $115.57\n",
      "Predicted Gold Price: $118.94960016999995. Actual Gold Price: $119.510002\n",
      "Predicted Gold Price: $126.10510084000003. Actual Gold Price: $125.389999\n",
      "Predicted Gold Price: $115.11670042000002. Actual Gold Price: $113.660004\n",
      "Predicted Gold Price: $97.39710129000002. Actual Gold Price: $97.889999\n",
      "Predicted Gold Price: $73.28459930999993. Actual Gold Price: $72.709999\n",
      "Predicted Gold Price: $118.15539975999995. Actual Gold Price: $120.050003\n",
      "Predicted Gold Price: $89.47159999000003. Actual Gold Price: $90.809998\n",
      "Predicted Gold Price: $135.00329894. Actual Gold Price: $138.369995\n",
      "Predicted Gold Price: $113.33479974. Actual Gold Price: $115.540001\n",
      "Predicted Gold Price: $114.49649979000009. Actual Gold Price: $115.730003\n",
      "Predicted Gold Price: $110.47120099999991. Actual Gold Price: $111.089996\n",
      "Predicted Gold Price: $86.54259850000004. Actual Gold Price: $85.43\n",
      "Predicted Gold Price: $113.48220079999992. Actual Gold Price: $110.75\n",
      "Predicted Gold Price: $126.43170106. Actual Gold Price: $125.980003\n",
      "Predicted Gold Price: $156.1939980100001. Actual Gold Price: $156.559998\n",
      "Predicted Gold Price: $119.76880006999995. Actual Gold Price: $119.040001\n",
      "Predicted Gold Price: $77.20499999999994. Actual Gold Price: $76.790001\n",
      "Predicted Gold Price: $113.45590109999999. Actual Gold Price: $110.449997\n",
      "Predicted Gold Price: $87.42449793000002. Actual Gold Price: $86.230003\n",
      "Predicted Gold Price: $115.06499881000002. Actual Gold Price: $116.620003\n",
      "Predicted Gold Price: $96.38540182999995. Actual Gold Price: $96.360001\n",
      "Predicted Gold Price: $115.83460035000013. Actual Gold Price: $115.940002\n",
      "Predicted Gold Price: $124.88079944000005. Actual Gold Price: $124.18\n",
      "Predicted Gold Price: $114.20940031999994. Actual Gold Price: $112.839996\n",
      "Predicted Gold Price: $118.2809005200001. Actual Gold Price: $118.68\n",
      "Predicted Gold Price: $119.01460052000004. Actual Gold Price: $119.580002\n",
      "Predicted Gold Price: $125.69779854999999. Actual Gold Price: $125.989998\n",
      "Predicted Gold Price: $111.87330156999997. Actual Gold Price: $111.760002\n",
      "Predicted Gold Price: $109.42009988999999. Actual Gold Price: $109.300003\n",
      "Predicted Gold Price: $165.72490209000017. Actual Gold Price: $166.020004\n",
      "Predicted Gold Price: $96.13609888999994. Actual Gold Price: $95.870003\n",
      "Predicted Gold Price: $121.38050138000004. Actual Gold Price: $120.949997\n",
      "Predicted Gold Price: $91.89590070999996. Actual Gold Price: $93.059998\n",
      "Predicted Gold Price: $115.9774015700001. Actual Gold Price: $116.07\n",
      "Predicted Gold Price: $110.88759935999992. Actual Gold Price: $110.75\n",
      "Predicted Gold Price: $155.94420341. Actual Gold Price: $155.130005\n",
      "Predicted Gold Price: $117.54650014999999. Actual Gold Price: $117.599998\n",
      "Predicted Gold Price: $152.88560062999994. Actual Gold Price: $157.320007\n",
      "Predicted Gold Price: $86.41759905999999. Actual Gold Price: $85.389999\n",
      "Predicted Gold Price: $141.1752984899999. Actual Gold Price: $141.630005\n",
      "Predicted Gold Price: $110.08899877999998. Actual Gold Price: $109.790001\n",
      "Predicted Gold Price: $106.42279977000005. Actual Gold Price: $107.110001\n",
      "Predicted Gold Price: $127.99189818999992. Actual Gold Price: $130.169998\n",
      "Predicted Gold Price: $118.9751993700001. Actual Gold Price: $115.940002\n",
      "Predicted Gold Price: $119.91700023. Actual Gold Price: $121.480003\n",
      "Predicted Gold Price: $117.92250098000004. Actual Gold Price: $117.919998\n",
      "Predicted Gold Price: $147.18710170000003. Actual Gold Price: $151.050003\n",
      "Predicted Gold Price: $109.5355987600001. Actual Gold Price: $108.860001\n",
      "Predicted Gold Price: $135.05910151000018. Actual Gold Price: $136.029999\n",
      "Predicted Gold Price: $158.59269969000007. Actual Gold Price: $160.619995\n",
      "Predicted Gold Price: $107.23779952000015. Actual Gold Price: $106.300003\n",
      "Predicted Gold Price: $102.51799949000008. Actual Gold Price: $102.43\n",
      "Predicted Gold Price: $166.5400994200001. Actual Gold Price: $173.490005\n",
      "Predicted Gold Price: $120.32620108000006. Actual Gold Price: $121.400002\n",
      "Predicted Gold Price: $141.12690115. Actual Gold Price: $142.149994\n",
      "Predicted Gold Price: $104.31489937. Actual Gold Price: $104.080002\n",
      "Predicted Gold Price: $94.26099974999995. Actual Gold Price: $93.900002\n",
      "Predicted Gold Price: $114.19190144999986. Actual Gold Price: $115.379997\n",
      "Predicted Gold Price: $123.55860059000005. Actual Gold Price: $122.790001\n",
      "Predicted Gold Price: $109.25219820000005. Actual Gold Price: $109.610001\n",
      "Predicted Gold Price: $166.65000203000002. Actual Gold Price: $168.179993\n",
      "Predicted Gold Price: $170.93140199000004. Actual Gold Price: $172.050003\n",
      "Predicted Gold Price: $117.78879935999994. Actual Gold Price: $117.739998\n",
      "Predicted Gold Price: $168.88219796999994. Actual Gold Price: $167.179993\n",
      "Predicted Gold Price: $126.32160098. Actual Gold Price: $127.260002\n",
      "Predicted Gold Price: $161.1855051200001. Actual Gold Price: $159.429993\n",
      "Predicted Gold Price: $95.67339952000007. Actual Gold Price: $94.779999\n",
      "Predicted Gold Price: $99.49199926999997. Actual Gold Price: $99.82\n",
      "Predicted Gold Price: $125.43350034999997. Actual Gold Price: $126.940002\n",
      "Predicted Gold Price: $72.76880049999997. Actual Gold Price: $71.099998\n",
      "Predicted Gold Price: $88.96709974999995. Actual Gold Price: $89.57\n",
      "Predicted Gold Price: $93.84790073999999. Actual Gold Price: $93.800003\n",
      "Predicted Gold Price: $148.20119714999998. Actual Gold Price: $169.550003\n",
      "Predicted Gold Price: $114.39650173000001. Actual Gold Price: $114.769997\n",
      "Predicted Gold Price: $108.21679900999997. Actual Gold Price: $108.470001\n",
      "Predicted Gold Price: $122.87389889000004. Actual Gold Price: $122.669998\n",
      "Predicted Gold Price: $89.90449972999996. Actual Gold Price: $89.849998\n",
      "Predicted Gold Price: $149.29570129000004. Actual Gold Price: $153.339996\n",
      "Predicted Gold Price: $94.00579839999989. Actual Gold Price: $93.760002\n",
      "Predicted Gold Price: $86.52779856000001. Actual Gold Price: $84.580002\n",
      "Predicted Gold Price: $106.88810093000002. Actual Gold Price: $105.970001\n",
      "Predicted Gold Price: $73.50439996999998. Actual Gold Price: $76.029999\n",
      "Predicted Gold Price: $133.76679957000007. Actual Gold Price: $136.880005\n",
      "Predicted Gold Price: $167.29750176999994. Actual Gold Price: $166.089996\n",
      "Predicted Gold Price: $117.55659952999997. Actual Gold Price: $118.190002\n",
      "Predicted Gold Price: $117.83159923000002. Actual Gold Price: $117.050003\n",
      "Predicted Gold Price: $96.67100196000008. Actual Gold Price: $97.730003\n",
      "Predicted Gold Price: $126.39189966000012. Actual Gold Price: $125.370003\n",
      "Predicted Gold Price: $128.01960069999998. Actual Gold Price: $127.57\n",
      "Predicted Gold Price: $113.96830001999993. Actual Gold Price: $114.32\n",
      "Predicted Gold Price: $126.91639983999994. Actual Gold Price: $127.019997\n",
      "Predicted Gold Price: $127.18940010999997. Actual Gold Price: $124.269997\n",
      "Predicted Gold Price: $116.22190081. Actual Gold Price: $114.730003\n",
      "Predicted Gold Price: $95.72279940000007. Actual Gold Price: $96.18\n",
      "Predicted Gold Price: $123.20859956000004. Actual Gold Price: $121.290001\n",
      "Predicted Gold Price: $126.28679994. Actual Gold Price: $125.32\n",
      "Predicted Gold Price: $89.69120114000002. Actual Gold Price: $88.639999\n",
      "Predicted Gold Price: $134.16569981999993. Actual Gold Price: $132.199997\n",
      "Predicted Gold Price: $118.38820094999994. Actual Gold Price: $118.550003\n",
      "Predicted Gold Price: $115.87779849000005. Actual Gold Price: $115.940002\n",
      "Predicted Gold Price: $145.28150032000002. Actual Gold Price: $147.830002\n",
      "Predicted Gold Price: $94.05800096999995. Actual Gold Price: $93.459999\n",
      "Predicted Gold Price: $116.5195997899999. Actual Gold Price: $115.620003\n",
      "Predicted Gold Price: $87.92390042999999. Actual Gold Price: $88.800003\n",
      "Predicted Gold Price: $119.44320019000006. Actual Gold Price: $120.839996\n"
     ]
    }
   ],
   "source": [
    "y_test = y_test.reset_index(drop=True)\n",
    "\n",
    "for i in range(len(prediction_X_test)):\n",
    "  print(f\"Predicted Gold Price: ${prediction_X_test[i]}. Actual Gold Price: ${y_test[i]}\")"
   ]
  },
  {
   "cell_type": "markdown",
   "metadata": {
    "id": "8_0tr48cICMy"
   },
   "source": [
    "### Plotting the Predicted Values VS Actual Values on graph"
   ]
  },
  {
   "cell_type": "code",
   "execution_count": 20,
   "metadata": {
    "colab": {
     "base_uri": "https://localhost:8080/",
     "height": 489
    },
    "id": "Hg2OchacH8aE",
    "outputId": "ccc43238-227c-4da1-8f9f-5682925ab4e6"
   },
   "outputs": [
    {
     "data": {
      "text/plain": [
       "<matplotlib.legend.Legend at 0x155bd639510>"
      ]
     },
     "execution_count": 20,
     "metadata": {},
     "output_type": "execute_result"
    },
    {
     "data": {
      "image/png": "[encoded data removed]",
      "text/plain": [
       "<Figure size 640x480 with 1 Axes>"
      ]
     },
     "metadata": {},
     "output_type": "display_data"
    }
   ],
   "source": [
    "predicted_X_test_plot = list(prediction_X_test)\n",
    "y_test_plot = list(y_test)\n",
    "\n",
    "plt.plot(predicted_X_test_plot, color='blue', label='Predicted Value')\n",
    "plt.plot(y_test_plot, color='red', label='Actual Value')\n",
    "plt.title('Predicted Values VS Actual Values')\n",
    "plt.xlabel('Number of Values')\n",
    "plt.ylabel('Gold Price')\n",
    "plt.legend()"
   ]
  },
  {
   "cell_type": "markdown",
   "metadata": {
    "id": "UlK4SEnjJG-M"
   },
   "source": [
    "### Creating a pickle file out of the model"
   ]
  },
  {
   "cell_type": "code",
   "execution_count": 21,
   "metadata": {
    "id": "k7CfCwYTIlQM"
   },
   "outputs": [],
   "source": [
    "import pickle\n",
    "\n",
    "with open('gold_price_pred_model.pkl', 'wb') as f:\n",
    "    pickle.dump(model, f)"
   ]
  }
 ],
 "metadata": {
  "colab": {
   "provenance": []
  },
  "kernelspec": {
   "display_name": "Python 3 (ipykernel)",
   "language": "python",
   "name": "python3"
  },
  "language_info": {
   "codemirror_mode": {
    "name": "ipython",
    "version": 3
   },
   "file_extension": ".py",
   "mimetype": "text/x-python",
   "name": "python",
   "nbconvert_exporter": "python",
   "pygments_lexer": "ipython3",
   "version": "3.11.2"
  }
 },
 "nbformat": 4,
 "nbformat_minor": 1
}
